{
 "cells": [
  {
   "cell_type": "markdown",
   "metadata": {
    "id": "aHN9KD9lCDMB",
    "tags": []
   },
   "source": [
    "# 함수 익히기\n",
    "<pre>\n",
    "- 함수는 정의부, 호출부\n",
    "- 정의부\n",
    "def 함수_이름():\n",
    "    - 함수내 실행문\n",
    "\n",
    "- 호출부\n",
    "함수_이름()\n",
    "\n",
    "</pre>"
   ]
  },
  {
   "cell_type": "code",
   "execution_count": 1,
   "metadata": {
    "id": "tUmLQXBUB_HU"
   },
   "outputs": [],
   "source": [
    "# 함수 정의\n",
    "def func_test():\n",
    "    print(\"헬로 함수\")\n",
    "    print(\"헬로 함수\")\n",
    "    print(\"헬로 함수\")"
   ]
  },
  {
   "cell_type": "code",
   "execution_count": 2,
   "metadata": {
    "colab": {
     "base_uri": "https://localhost:8080/"
    },
    "executionInfo": {
     "elapsed": 310,
     "status": "ok",
     "timestamp": 1721712226297,
     "user": {
      "displayName": "kyongha kim",
      "userId": "08272762897229313822"
     },
     "user_tz": -540
    },
    "id": "kenEj0wZCs87",
    "outputId": "4124ace5-2536-4e3d-cadc-c211caa9061f"
   },
   "outputs": [
    {
     "name": "stdout",
     "output_type": "stream",
     "text": [
      "헬로 함수\n",
      "헬로 함수\n",
      "헬로 함수\n"
     ]
    }
   ],
   "source": [
    "# 함수 호출\n",
    "func_test()"
   ]
  },
  {
   "cell_type": "code",
   "execution_count": 3,
   "metadata": {
    "colab": {
     "base_uri": "https://localhost:8080/"
    },
    "executionInfo": {
     "elapsed": 291,
     "status": "ok",
     "timestamp": 1721712234151,
     "user": {
      "displayName": "kyongha kim",
      "userId": "08272762897229313822"
     },
     "user_tz": -540
    },
    "id": "YAtHBiCCC1Gm",
    "outputId": "3318ca88-fabc-4b50-ea54-8b7639ec4df6"
   },
   "outputs": [
    {
     "name": "stdout",
     "output_type": "stream",
     "text": [
      "헬로 함수\n",
      "헬로 함수\n",
      "헬로 함수\n"
     ]
    }
   ],
   "source": [
    "func_test()"
   ]
  },
  {
   "cell_type": "code",
   "execution_count": 4,
   "metadata": {
    "id": "X3tiF7r7C8vV"
   },
   "outputs": [],
   "source": [
    "# 두수를 더하는 함수\n",
    "# 호출할 때 두수를 전달\n",
    "\n",
    "# 2 + 2\n",
    "# 4 + 5\n",
    "# 6 + 8\n",
    "# 4 + 5"
   ]
  },
  {
   "cell_type": "code",
   "execution_count": 5,
   "metadata": {
    "id": "89kUyiB-DlOx"
   },
   "outputs": [],
   "source": [
    "# 두수를 전달 받음, 매개변수(파라미터, parameter)\n",
    "def add_func(num1, num2):\n",
    "    print(f\"{num1} + {num2} = {num1+num2}\")\n"
   ]
  },
  {
   "cell_type": "code",
   "execution_count": 6,
   "metadata": {
    "colab": {
     "base_uri": "https://localhost:8080/"
    },
    "executionInfo": {
     "elapsed": 312,
     "status": "ok",
     "timestamp": 1721712746467,
     "user": {
      "displayName": "kyongha kim",
      "userId": "08272762897229313822"
     },
     "user_tz": -540
    },
    "id": "IYUl60CTDzsR",
    "outputId": "3e7f89f6-c992-4a47-ee7a-f205b6503add"
   },
   "outputs": [
    {
     "name": "stdout",
     "output_type": "stream",
     "text": [
      "1 + 2 = 3\n",
      "4 + 6 = 10\n",
      "8 + 9 = 17\n",
      "4 + 5 = 9\n",
      "7 + 9 = 16\n"
     ]
    }
   ],
   "source": [
    " # 호출, 함수의 전달인자(아규먼트, argument)로 넣기\n",
    "# a = 1\n",
    "# b = 2\n",
    "add_func(1, 2)\n",
    "add_func(4, 6)\n",
    "add_func(8, 9)\n",
    "add_func(4, 5)\n",
    "add_func(7, 9)"
   ]
  },
  {
   "cell_type": "markdown",
   "metadata": {
    "id": "U4LhPBVjFxYZ"
   },
   "source": [
    "## 함수의 리턴\n",
    "- 호출하고, 함수 실행후 결과를 받아서"
   ]
  },
  {
   "cell_type": "code",
   "execution_count": 7,
   "metadata": {
    "id": "lz0VDXa6GarH"
   },
   "outputs": [],
   "source": [
    "nums = [1,2,3,4]"
   ]
  },
  {
   "cell_type": "code",
   "execution_count": 8,
   "metadata": {
    "id": "ib3tXb7SEO0p"
   },
   "outputs": [],
   "source": [
    "# 두수를 전달 받음, 매개변수(파라미터, parameter)\n",
    "def add_func(num1, num2):\n",
    "    # print(f\"{num1} + {num2} = {num1+num2}\")\n",
    "    return num1+num2"
   ]
  },
  {
   "cell_type": "code",
   "execution_count": null,
   "metadata": {
    "id": "PzHRZjwTGIQL"
   },
   "outputs": [],
   "source": [
    "result = add_func(2,4)"
   ]
  },
  {
   "cell_type": "code",
   "execution_count": null,
   "metadata": {
    "colab": {
     "base_uri": "https://localhost:8080/"
    },
    "executionInfo": {
     "elapsed": 1,
     "status": "ok",
     "timestamp": 1721713130755,
     "user": {
      "displayName": "kyongha kim",
      "userId": "08272762897229313822"
     },
     "user_tz": -540
    },
    "id": "UVVXXa9SGObi",
    "outputId": "d6d9d98c-7ed6-4f69-f82d-7aa6d7b0e07b"
   },
   "outputs": [
    {
     "data": {
      "text/plain": [
       "6"
      ]
     },
     "execution_count": 17,
     "metadata": {},
     "output_type": "execute_result"
    }
   ],
   "source": [
    "result"
   ]
  },
  {
   "cell_type": "code",
   "execution_count": null,
   "metadata": {
    "id": "elQU8ckWHMxf"
   },
   "outputs": [],
   "source": []
  },
  {
   "cell_type": "code",
   "execution_count": null,
   "metadata": {
    "colab": {
     "base_uri": "https://localhost:8080/"
    },
    "executionInfo": {
     "elapsed": 291,
     "status": "ok",
     "timestamp": 1721713252994,
     "user": {
      "displayName": "kyongha kim",
      "userId": "08272762897229313822"
     },
     "user_tz": -540
    },
    "id": "TyWsf-rgGXiJ",
    "outputId": "cab65bbe-102c-43a7-8dfd-55925715f9cf"
   },
   "outputs": [
    {
     "name": "stdout",
     "output_type": "stream",
     "text": [
      "7\n",
      "8\n",
      "9\n",
      "10\n"
     ]
    }
   ],
   "source": [
    "for a in nums:\n",
    "    print(result + a)"
   ]
  },
  {
   "cell_type": "markdown",
   "metadata": {
    "id": "7mMvydIUHejF"
   },
   "source": [
    "## 매개변수의 타입에러"
   ]
  },
  {
   "cell_type": "code",
   "execution_count": null,
   "metadata": {
    "id": "polZB4hxGyjm"
   },
   "outputs": [],
   "source": [
    "# 함수의 정부\n",
    "def print_n_times(value, n):\n",
    "    for i in range(n):\n",
    "        print(value)"
   ]
  },
  {
   "cell_type": "code",
   "execution_count": null,
   "metadata": {
    "colab": {
     "base_uri": "https://localhost:8080/"
    },
    "executionInfo": {
     "elapsed": 316,
     "status": "ok",
     "timestamp": 1721713564935,
     "user": {
      "displayName": "kyongha kim",
      "userId": "08272762897229313822"
     },
     "user_tz": -540
    },
    "id": "0mcc22kFHsoA",
    "outputId": "34c1839d-0490-49a1-ee8b-b8134e94709c"
   },
   "outputs": [
    {
     "name": "stdout",
     "output_type": "stream",
     "text": [
      "안녕\n",
      "안녕\n",
      "안녕\n",
      "안녕\n",
      "안녕\n"
     ]
    }
   ],
   "source": [
    "print_n_times(\"안녕\", 5)"
   ]
  },
  {
   "cell_type": "code",
   "execution_count": null,
   "metadata": {
    "id": "FnVg1zI3Iu_e"
   },
   "outputs": [],
   "source": [
    "# 문제 : 리턴된 결과가 다음과 같이 출력 되도록\n",
    "# [\"안녕1\", \"안녕2\", \"안녕3\", \"안녕4\", \"안녕5\"]"
   ]
  },
  {
   "cell_type": "code",
   "execution_count": null,
   "metadata": {
    "id": "0LKuFZP5HwN2"
   },
   "outputs": [],
   "source": [
    "# 함수 정의부 :\n",
    "def print_n_times(value, n):\n",
    "    # 안녕1, 안녕2 ~ 안녕5 => 리스트에 넣기\n",
    "    # 함수 내 지역변수\n",
    "    list_data = []\n",
    "    for i in range(n):\n",
    "        # print(f\"안녕{i+1}\")\n",
    "        # 리스트에 추가\n",
    "        list_data.append(f\"안녕{i+1}\")\n",
    "    # print(list_data)\n",
    "    return list_data"
   ]
  },
  {
   "cell_type": "code",
   "execution_count": null,
   "metadata": {
    "colab": {
     "base_uri": "https://localhost:8080/",
     "height": 149
    },
    "executionInfo": {
     "elapsed": 281,
     "status": "error",
     "timestamp": 1721715864480,
     "user": {
      "displayName": "kyongha kim",
      "userId": "08272762897229313822"
     },
     "user_tz": -540
    },
    "id": "sIwzGN1BPqJD",
    "outputId": "c91c16c3-ce5c-424c-bb3a-179f6add9735"
   },
   "outputs": [
    {
     "ename": "NameError",
     "evalue": "name 'list_data' is not defined",
     "output_type": "error",
     "traceback": [
      "\u001b[0;31m---------------------------------------------------------------------------\u001b[0m",
      "\u001b[0;31mNameError\u001b[0m                                 Traceback (most recent call last)",
      "\u001b[0;32m<ipython-input-2-80d3df93292f>\u001b[0m in \u001b[0;36m<cell line: 1>\u001b[0;34m()\u001b[0m\n\u001b[0;32m----> 1\u001b[0;31m \u001b[0mprint\u001b[0m\u001b[0;34m(\u001b[0m\u001b[0mlist_data\u001b[0m\u001b[0;34m)\u001b[0m\u001b[0;34m\u001b[0m\u001b[0;34m\u001b[0m\u001b[0m\n\u001b[0m",
      "\u001b[0;31mNameError\u001b[0m: name 'list_data' is not defined"
     ]
    }
   ],
   "source": [
    "print(list_data)"
   ]
  },
  {
   "cell_type": "code",
   "execution_count": null,
   "metadata": {
    "colab": {
     "base_uri": "https://localhost:8080/"
    },
    "executionInfo": {
     "elapsed": 310,
     "status": "ok",
     "timestamp": 1721715877113,
     "user": {
      "displayName": "kyongha kim",
      "userId": "08272762897229313822"
     },
     "user_tz": -540
    },
    "id": "xPt8sfsBIjN_",
    "outputId": "3119e3ef-0bb6-4d57-8681-e8316105dd74"
   },
   "outputs": [
    {
     "data": {
      "text/plain": [
       "['안녕1', '안녕2', '안녕3', '안녕4', '안녕5']"
      ]
     },
     "execution_count": 3,
     "metadata": {},
     "output_type": "execute_result"
    }
   ],
   "source": [
    "val = \"안녕\"\n",
    "nth = 5\n",
    "# print_n_times(val, nth)\n",
    "# 리턴값을 받는 전역변수\n",
    "list_data = print_n_times(val, nth)\n",
    "list_data\n",
    "#출력 => [\"안녕1\", \"안녕2\", \"안녕3\", \"안녕4\", \"안녕5\"]"
   ]
  },
  {
   "cell_type": "markdown",
   "metadata": {
    "id": "zEiGgV3zRkLq"
   },
   "source": [
    "## 가변 매개변수"
   ]
  },
  {
   "cell_type": "code",
   "execution_count": null,
   "metadata": {
    "colab": {
     "base_uri": "https://localhost:8080/"
    },
    "executionInfo": {
     "elapsed": 279,
     "status": "ok",
     "timestamp": 1721716117650,
     "user": {
      "displayName": "kyongha kim",
      "userId": "08272762897229313822"
     },
     "user_tz": -540
    },
    "id": "SzxPO1ubNZ4_",
    "outputId": "d36e2a51-cca3-4372-dad6-6190ae220932"
   },
   "outputs": [
    {
     "name": "stdout",
     "output_type": "stream",
     "text": [
      "1 2 3 5 안녕 [1, 2, 3]\n"
     ]
    }
   ],
   "source": [
    "print(1,2,3,5,\"안녕\", [1,2,3])"
   ]
  },
  {
   "cell_type": "code",
   "execution_count": null,
   "metadata": {
    "colab": {
     "base_uri": "https://localhost:8080/"
    },
    "executionInfo": {
     "elapsed": 286,
     "status": "ok",
     "timestamp": 1721716137161,
     "user": {
      "displayName": "kyongha kim",
      "userId": "08272762897229313822"
     },
     "user_tz": -540
    },
    "id": "LEuyIkp6Rw3l",
    "outputId": "d41631f6-6bd6-42a0-c3c6-af0b568a2b79"
   },
   "outputs": [
    {
     "name": "stdout",
     "output_type": "stream",
     "text": [
      "1\n"
     ]
    }
   ],
   "source": [
    "print(1)"
   ]
  },
  {
   "cell_type": "code",
   "execution_count": null,
   "metadata": {
    "colab": {
     "base_uri": "https://localhost:8080/"
    },
    "executionInfo": {
     "elapsed": 306,
     "status": "ok",
     "timestamp": 1721716602631,
     "user": {
      "displayName": "kyongha kim",
      "userId": "08272762897229313822"
     },
     "user_tz": -540
    },
    "id": "qnsoFWJ2R0yc",
    "outputId": "34ceaf8a-ee10-45eb-b590-51bbe8ea4695"
   },
   "outputs": [
    {
     "name": "stdout",
     "output_type": "stream",
     "text": [
      "(1, 2, 3, 4, 5, 6, 7, 8, 9)\n"
     ]
    }
   ],
   "source": [
    "# 여러개의 숫자를 넘겨 받아서 모두 더하는 함수\n",
    "# 정의부\n",
    "# *nums : 가변 매개변수 표현 => 튜플로 만들어짐\n",
    "def add_nums(*nums):\n",
    "    print(nums)\n",
    "\n",
    "# 호출부\n",
    "# 1,2,3\n",
    "# 3,4,5,6,7\n",
    "# 1,2,3,4,5,6,7,8,9\n",
    "add_nums(1,2,3,4,5,6,7,8,9)"
   ]
  },
  {
   "cell_type": "code",
   "execution_count": null,
   "metadata": {
    "colab": {
     "base_uri": "https://localhost:8080/"
    },
    "executionInfo": {
     "elapsed": 289,
     "status": "ok",
     "timestamp": 1721716662182,
     "user": {
      "displayName": "kyongha kim",
      "userId": "08272762897229313822"
     },
     "user_tz": -540
    },
    "id": "g192xwPISt4Y",
    "outputId": "1b67ac65-3799-40af-a199-fa7efd61ecc3"
   },
   "outputs": [
    {
     "name": "stdout",
     "output_type": "stream",
     "text": [
      "호출전 자료구조 : (1, 2, 3, 4, 5, 6, 7, 8, 9)\n",
      "함수 내 자료구조 (1, 2, 3, 4, 5, 6, 7, 8, 9)\n"
     ]
    }
   ],
   "source": [
    "# 정의부\n",
    "def add_nums(nums):\n",
    "    print(\"함수 내 자료구조\", nums)\n",
    "\n",
    "# 호출부\n",
    "# 여러개의 값을 하나의 변수에 대입하면 튜플로저장됨\n",
    "# nums_list = 1,2,3\n",
    "# nums_list = 3,4,5,6,7\n",
    "nums_list = 1,2,3,4,5,6,7,8,9\n",
    "print(\"호출전 자료구조 :\", nums_list)\n",
    "add_nums(nums_list)"
   ]
  },
  {
   "cell_type": "code",
   "execution_count": null,
   "metadata": {
    "colab": {
     "base_uri": "https://localhost:8080/"
    },
    "executionInfo": {
     "elapsed": 311,
     "status": "ok",
     "timestamp": 1721716917959,
     "user": {
      "displayName": "kyongha kim",
      "userId": "08272762897229313822"
     },
     "user_tz": -540
    },
    "id": "kJXxK_UGTrvL",
    "outputId": "7b0b0edf-1b5f-4aee-dd9c-66cd259ea6d7"
   },
   "outputs": [
    {
     "name": "stdout",
     "output_type": "stream",
     "text": [
      "1 [2, 3]\n"
     ]
    }
   ],
   "source": [
    "a, *b = 1,2,3\n",
    "print(a, b)"
   ]
  },
  {
   "cell_type": "code",
   "execution_count": null,
   "metadata": {
    "colab": {
     "base_uri": "https://localhost:8080/"
    },
    "executionInfo": {
     "elapsed": 302,
     "status": "ok",
     "timestamp": 1721717007442,
     "user": {
      "displayName": "kyongha kim",
      "userId": "08272762897229313822"
     },
     "user_tz": -540
    },
    "id": "gPgyi-d9UrBR",
    "outputId": "384b44b3-d4a4-4d0c-9c14-91b25e066b9e"
   },
   "outputs": [
    {
     "name": "stdout",
     "output_type": "stream",
     "text": [
      "3 4 [5, 6, 7]\n"
     ]
    }
   ],
   "source": [
    "a, b, *c = 3,4,5,6,7\n",
    "print(a, b, c)"
   ]
  },
  {
   "cell_type": "code",
   "execution_count": null,
   "metadata": {
    "colab": {
     "base_uri": "https://localhost:8080/"
    },
    "executionInfo": {
     "elapsed": 320,
     "status": "ok",
     "timestamp": 1721717009991,
     "user": {
      "displayName": "kyongha kim",
      "userId": "08272762897229313822"
     },
     "user_tz": -540
    },
    "id": "q63riIhfVDX4",
    "outputId": "1ad05208-87b7-413d-b59e-9ab7a36d76ef"
   },
   "outputs": [
    {
     "name": "stdout",
     "output_type": "stream",
     "text": [
      "1 2 3 [4, 5, 6, 7, 8, 9]\n"
     ]
    }
   ],
   "source": [
    "a, b, c, *d = 1,2,3,4,5,6,7,8,9\n",
    "print(a, b, c, d)"
   ]
  },
  {
   "cell_type": "markdown",
   "metadata": {
    "id": "4_Ymymk3Z7Jq"
   },
   "source": [
    "# 기본 매개변수\n",
    "- 함수정의부의 매개변수에 기본값을 대입함\n",
    "- 호출부에서 그 매개변수의 값을 전달하지 않으면 디폴트값으로 사용됨"
   ]
  },
  {
   "cell_type": "code",
   "execution_count": 1,
   "metadata": {
    "colab": {
     "base_uri": "https://localhost:8080/"
    },
    "executionInfo": {
     "elapsed": 329,
     "status": "ok",
     "timestamp": 1721886200531,
     "user": {
      "displayName": "kyongha kim",
      "userId": "08272762897229313822"
     },
     "user_tz": -540
    },
    "id": "nXmzemnHVKtS",
    "outputId": "1c6effb8-f0ee-4822-f2fd-a2a1cccaec4e"
   },
   "outputs": [
    {
     "name": "stdout",
     "output_type": "stream",
     "text": [
      "안녕하세요.\n",
      "안녕하세요.\n"
     ]
    }
   ],
   "source": [
    "# 정의부\n",
    "# n=2 : 호출부에서 전달인자 없기때문에 기본값으로 사용됨\n",
    "def print_n_time(value, n=2):\n",
    "    for i in range(n):\n",
    "        print(value)\n",
    "\n",
    "# 호출부\n",
    "print_n_time(\"안녕하세요.\")"
   ]
  },
  {
   "cell_type": "code",
   "execution_count": 2,
   "metadata": {
    "colab": {
     "base_uri": "https://localhost:8080/"
    },
    "executionInfo": {
     "elapsed": 358,
     "status": "ok",
     "timestamp": 1721886236005,
     "user": {
      "displayName": "kyongha kim",
      "userId": "08272762897229313822"
     },
     "user_tz": -540
    },
    "id": "jMO639TFak_a",
    "outputId": "33182628-fc82-4e46-83aa-c82f6d80ea3a"
   },
   "outputs": [
    {
     "name": "stdout",
     "output_type": "stream",
     "text": [
      "안녕하세요.\n",
      "안녕하세요.\n",
      "안녕하세요.\n",
      "안녕하세요.\n"
     ]
    }
   ],
   "source": [
    "# 정의부\n",
    "def print_n_time(value, n=2):\n",
    "    for i in range(n):\n",
    "        print(value)\n",
    "\n",
    "# 호출부\n",
    "print_n_time(\"안녕하세요.\", 4)"
   ]
  },
  {
   "cell_type": "markdown",
   "metadata": {
    "id": "UDQyXfPHbZzA"
   },
   "source": [
    "- 기본 매개변수와 가변매개변수를 함께 사용"
   ]
  },
  {
   "cell_type": "code",
   "execution_count": 9,
   "metadata": {
    "colab": {
     "base_uri": "https://localhost:8080/"
    },
    "executionInfo": {
     "elapsed": 338,
     "status": "ok",
     "timestamp": 1721886816338,
     "user": {
      "displayName": "kyongha kim",
      "userId": "08272762897229313822"
     },
     "user_tz": -540
    },
    "id": "enbN6d7ZatpV",
    "outputId": "5a8f02c8-7fbd-4a75-c635-d00bf8bb12cd"
   },
   "outputs": [
    {
     "name": "stdout",
     "output_type": "stream",
     "text": [
      "('안녕하세요.', '즐거운', '파이썬', 5)\n",
      "('안녕하세요.', '즐거운', '파이썬', 5)\n"
     ]
    }
   ],
   "source": [
    "# 정의부\n",
    "def print_n_time(*value, n=2):\n",
    "    for i in range(n):\n",
    "        print(value)\n",
    "\n",
    "# 호출부\n",
    "print_n_time(\"안녕하세요.\", \"즐거운\", \"파이썬\", 5)"
   ]
  },
  {
   "cell_type": "code",
   "execution_count": 10,
   "metadata": {
    "colab": {
     "base_uri": "https://localhost:8080/"
    },
    "executionInfo": {
     "elapsed": 308,
     "status": "ok",
     "timestamp": 1721886830191,
     "user": {
      "displayName": "kyongha kim",
      "userId": "08272762897229313822"
     },
     "user_tz": -540
    },
    "id": "wkM6sthRcEGo",
    "outputId": "8da5dd7a-d300-4351-975c-c50488b79cc6"
   },
   "outputs": [
    {
     "name": "stdout",
     "output_type": "stream",
     "text": [
      "('안녕하세요.', '즐거운', '파이썬')\n",
      "('안녕하세요.', '즐거운', '파이썬')\n",
      "('안녕하세요.', '즐거운', '파이썬')\n",
      "('안녕하세요.', '즐거운', '파이썬')\n",
      "('안녕하세요.', '즐거운', '파이썬')\n"
     ]
    }
   ],
   "source": [
    "# 정의부\n",
    "def print_n_time(*value, n=2):\n",
    "    for i in range(n):\n",
    "        print(value)\n",
    "\n",
    "# 호출부\n",
    "# 가변매개변수 뒤에 기본매개 변수가 올때는 전달인자에 키워드 매개변수로 전달해야함.\n",
    "print_n_time(\"안녕하세요.\", \"즐거운\", \"파이썬\", n=5)"
   ]
  },
  {
   "cell_type": "markdown",
   "metadata": {
    "id": "WoI1GRP8jK4j"
   },
   "source": [
    "## 함수의 리턴"
   ]
  },
  {
   "cell_type": "code",
   "execution_count": 18,
   "metadata": {
    "colab": {
     "base_uri": "https://localhost:8080/"
    },
    "executionInfo": {
     "elapsed": 299,
     "status": "ok",
     "timestamp": 1721888666740,
     "user": {
      "displayName": "kyongha kim",
      "userId": "08272762897229313822"
     },
     "user_tz": -540
    },
    "id": "x6QyNnQJc-uI",
    "outputId": "56d8fba8-dcaa-48a6-adc7-8c0a8e437954"
   },
   "outputs": [
    {
     "name": "stdout",
     "output_type": "stream",
     "text": [
      "hello\n"
     ]
    }
   ],
   "source": [
    "def return_test():\n",
    "    a = \"hello\"\n",
    "    # print(a)\n",
    "    return a\n",
    "\n",
    "value = return_test()\n",
    "print(value)"
   ]
  },
  {
   "cell_type": "code",
   "execution_count": 5,
   "metadata": {
    "id": "EKCrwRvtjWlY"
   },
   "outputs": [
    {
     "name": "stdout",
     "output_type": "stream",
     "text": [
      "A. 550\n",
      "B. 5050\n",
      "C. 2550\n"
     ]
    }
   ],
   "source": [
    "def sum_all(start=0, end=100, step=1):\n",
    "    output = 0\n",
    "    for i in range(start, end + 1, step):\n",
    "        output+= i\n",
    "    return output\n",
    "\n",
    "print(\"A.\",sum_all(0,100,10))\n",
    "print(\"B.\",sum_all(end=100))\n",
    "print(\"C.\",sum_all(end=100, step=2))\n"
   ]
  },
  {
   "cell_type": "code",
   "execution_count": null,
   "metadata": {},
   "outputs": [],
   "source": [
    "def f(x):\n",
    "    return 2(f(10)) + 1\n",
    "print(f(10))"
   ]
  },
  {
   "cell_type": "code",
   "execution_count": 9,
   "metadata": {},
   "outputs": [
    {
     "name": "stdout",
     "output_type": "stream",
     "text": [
      "21\n"
     ]
    }
   ],
   "source": [
    "def f(x):\n",
    "    return 2*x + 1\n",
    "print(f(10))"
   ]
  },
  {
   "cell_type": "code",
   "execution_count": 11,
   "metadata": {},
   "outputs": [
    {
     "name": "stdout",
     "output_type": "stream",
     "text": [
      "1001\n"
     ]
    }
   ],
   "source": [
    "def f(x):\n",
    "    return x** + 2*x + 1\n",
    "print(f(10))"
   ]
  },
  {
   "cell_type": "code",
   "execution_count": 12,
   "metadata": {},
   "outputs": [
    {
     "ename": "NameError",
     "evalue": "name 'return_test' is not defined",
     "output_type": "error",
     "traceback": [
      "\u001b[1;31m---------------------------------------------------------------------------\u001b[0m",
      "\u001b[1;31mNameError\u001b[0m                                 Traceback (most recent call last)",
      "Cell \u001b[1;32mIn[12], line 4\u001b[0m\n\u001b[0;32m      1\u001b[0m \u001b[38;5;28;01mdef\u001b[39;00m \u001b[38;5;21mmul\u001b[39m(\u001b[38;5;241m*\u001b[39mvalues):\n\u001b[0;32m      2\u001b[0m     \u001b[38;5;28;01mreturn\u001b[39;00m \u001b[38;5;241m100\u001b[39m\n\u001b[1;32m----> 4\u001b[0m value \u001b[38;5;241m=\u001b[39m \u001b[43mreturn_test\u001b[49m()\n\u001b[0;32m      5\u001b[0m \u001b[38;5;28mprint\u001b[39m(valuew)\n",
      "\u001b[1;31mNameError\u001b[0m: name 'return_test' is not defined"
     ]
    }
   ],
   "source": [
    "def mul(*values):\n",
    "    return 100\n",
    "\n",
    "value = return_test()\n",
    "print(valuew)"
   ]
  },
  {
   "cell_type": "code",
   "execution_count": 13,
   "metadata": {},
   "outputs": [
    {
     "name": "stdout",
     "output_type": "stream",
     "text": [
      "3150\n"
     ]
    }
   ],
   "source": [
    "def mul(*values):\n",
    "    result = 1\n",
    "    for value in values:\n",
    "        result *= value\n",
    "    return result\n",
    "\n",
    "print(mul(5, 7, 9, 10))\n"
   ]
  },
  {
   "cell_type": "code",
   "execution_count": 17,
   "metadata": {},
   "outputs": [
    {
     "name": "stdout",
     "output_type": "stream",
     "text": [
      "<function function at 0x000001B4361B4A60>\n"
     ]
    }
   ],
   "source": [
    "def function(valueA, valueB, *values):\n",
    "    pass\n",
    "function(1,2,3,4,5)\n",
    "\n",
    "print(function)"
   ]
  },
  {
   "cell_type": "code",
   "execution_count": 18,
   "metadata": {},
   "outputs": [
    {
     "name": "stdout",
     "output_type": "stream",
     "text": [
      "<function function at 0x000001B43463BF40>\n"
     ]
    }
   ],
   "source": [
    "def function(valueA=10, valueB=20, *values):\n",
    "    pass\n",
    "function(1,2,3,4,5)\n",
    "\n",
    "print(function)"
   ]
  },
  {
   "cell_type": "code",
   "execution_count": 21,
   "metadata": {},
   "outputs": [
    {
     "ename": "TypeError",
     "evalue": "function() missing 2 required keyword-only arguments: 'valueA' and 'valueB'",
     "output_type": "error",
     "traceback": [
      "\u001b[1;31m---------------------------------------------------------------------------\u001b[0m",
      "\u001b[1;31mTypeError\u001b[0m                                 Traceback (most recent call last)",
      "Cell \u001b[1;32mIn[21], line 3\u001b[0m\n\u001b[0;32m      1\u001b[0m \u001b[38;5;28;01mdef\u001b[39;00m \u001b[38;5;21mfunction\u001b[39m(\u001b[38;5;241m*\u001b[39mvalues, valueA, valueB):\n\u001b[0;32m      2\u001b[0m     \u001b[38;5;28;01mpass\u001b[39;00m\n\u001b[1;32m----> 3\u001b[0m \u001b[43mfunction\u001b[49m\u001b[43m(\u001b[49m\u001b[38;5;241;43m1\u001b[39;49m\u001b[43m,\u001b[49m\u001b[38;5;241;43m2\u001b[39;49m\u001b[43m,\u001b[49m\u001b[38;5;241;43m3\u001b[39;49m\u001b[43m,\u001b[49m\u001b[38;5;241;43m4\u001b[39;49m\u001b[43m,\u001b[49m\u001b[38;5;241;43m5\u001b[39;49m\u001b[43m)\u001b[49m\n",
      "\u001b[1;31mTypeError\u001b[0m: function() missing 2 required keyword-only arguments: 'valueA' and 'valueB'"
     ]
    }
   ],
   "source": [
    "def function(*values, valueA, valueB):\n",
    "    pass\n",
    "function(1,2,3,4,5)\n"
   ]
  },
  {
   "cell_type": "code",
   "execution_count": null,
   "metadata": {},
   "outputs": [],
   "source": [
    "def function(*values, valueA=10, valueB=20):\n",
    "    pass\n",
    "function(1,2,3,4,5)\n"
   ]
  },
  {
   "cell_type": "code",
   "execution_count": 2,
   "metadata": {},
   "outputs": [
    {
     "name": "stdout",
     "output_type": "stream",
     "text": [
      "안녕하세요\n",
      "안녕하세요\n",
      "안녕하세요\n",
      "안녕하세요\n",
      "안녕하세요\n",
      "안녕하세요\n",
      "안녕하세요\n",
      "안녕하세요\n",
      "안녕하세요\n",
      "안녕하세요\n"
     ]
    }
   ],
   "source": [
    "def call_10_times(func):\n",
    "    for i in range(10):\n",
    "        func()\n",
    "\n",
    "def print_hello():\n",
    "    print(\"안녕하세요\")\n",
    "\n",
    "call_10_times(print_hello)"
   ]
  },
  {
   "cell_type": "code",
   "execution_count": 4,
   "metadata": {},
   "outputs": [],
   "source": [
    "a = {1,2,3,4}\n",
    "a.add(5)"
   ]
  },
  {
   "cell_type": "code",
   "execution_count": null,
   "metadata": {},
   "outputs": [],
   "source": []
  }
 ],
 "metadata": {
  "colab": {
   "authorship_tag": "ABX9TyM4XJgEZixf0XJyTo8dfeup",
   "provenance": []
  },
  "kernelspec": {
   "display_name": "Python 3 (ipykernel)",
   "language": "python",
   "name": "python3"
  },
  "language_info": {
   "codemirror_mode": {
    "name": "ipython",
    "version": 3
   },
   "file_extension": ".py",
   "mimetype": "text/x-python",
   "name": "python",
   "nbconvert_exporter": "python",
   "pygments_lexer": "ipython3",
   "version": "3.10.14"
  }
 },
 "nbformat": 4,
 "nbformat_minor": 4
}
