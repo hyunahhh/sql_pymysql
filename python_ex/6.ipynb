{
 "cells": [
  {
   "cell_type": "markdown",
   "id": "059a3514-0a20-41a5-900d-ce24dc2ff1b1",
   "metadata": {},
   "source": [
    "# 파일 처리\n",
    "## 파일 쓰기\n",
    "- 파일 오픈: 파일명, 모드(쓰기 모드 w, a), 식별\n",
    "- 쓰기 모드\n",
    "  - w: 파일에 overwrite\n",
    "  - a : 파일의 뒷부분에 추가\n",
    "- 마지막에 close()"
   ]
  },
  {
   "cell_type": "code",
   "execution_count": 6,
   "id": "0db665de-760d-4440-9a0b-07b1ad1dffd5",
   "metadata": {},
   "outputs": [],
   "source": [
    "# 파일 오플\n",
    "#식별자 = open(\"파일명\", \"모드\")\n",
    "file = open(\"test.txt\", \"w\", encoding='utf-8')\n",
    "\n",
    "file.write(\"안녕 파일 쓰기 처음이야.\")\n",
    "file.write(\"hello how are you.\")\n",
    "\n",
    "\n",
    "#파일 닫기\n",
    "file.close()"
   ]
  },
  {
   "cell_type": "code",
   "execution_count": 8,
   "id": "7fa400f7-5896-4f38-bd2e-922ad936be18",
   "metadata": {},
   "outputs": [],
   "source": [
    "# 파일 오플\n",
    "#식별자 = open(\"파일명\", \"모드\")\n",
    "file = open(\"test.txt\", \"a\", encoding='utf-8')\n",
    "\n",
    "file.write(\"안녕 파일 쓰기 처음이야.2\")\n",
    "file.write(\"hello how are you.\\n2\")\n",
    "\n",
    "\n",
    "#파일 닫기\n",
    "file.close()"
   ]
  },
  {
   "cell_type": "markdown",
   "id": "fc947964-ecf6-4d81-98f0-6b16c586a405",
   "metadata": {},
   "source": [
    "# 파일 읽기"
   ]
  },
  {
   "cell_type": "code",
   "execution_count": 10,
   "id": "6946b005-5ed4-4be1-8bd7-39e4b17d61cd",
   "metadata": {},
   "outputs": [
    {
     "ename": "NameError",
     "evalue": "name 'encoding' is not defined",
     "output_type": "error",
     "traceback": [
      "\u001b[1;31m---------------------------------------------------------------------------\u001b[0m",
      "\u001b[1;31mNameError\u001b[0m                                 Traceback (most recent call last)",
      "Cell \u001b[1;32mIn[10], line 2\u001b[0m\n\u001b[0;32m      1\u001b[0m \u001b[38;5;66;03m# 식별자 = \u001b[39;00m\n\u001b[1;32m----> 2\u001b[0m file \u001b[38;5;241m=\u001b[39m \u001b[38;5;28mopen\u001b[39m(\u001b[38;5;124m\"\u001b[39m\u001b[38;5;124mtest.txt\u001b[39m\u001b[38;5;124m\"\u001b[39m, \u001b[38;5;124m\"\u001b[39m\u001b[38;5;124mr\u001b[39m\u001b[38;5;124m\"\u001b[39m, \u001b[43mencoding\u001b[49m \u001b[38;5;241m-\u001b[39m \u001b[38;5;124m'\u001b[39m\u001b[38;5;124mutf-9\u001b[39m\u001b[38;5;124m'\u001b[39m)\n\u001b[0;32m      3\u001b[0m data \u001b[38;5;241m=\u001b[39m file\u001b[38;5;241m.\u001b[39mread()\n\u001b[0;32m      4\u001b[0m \u001b[38;5;28mprint\u001b[39m(\u001b[38;5;28mtype\u001b[39m(data))\n",
      "\u001b[1;31mNameError\u001b[0m: name 'encoding' is not defined"
     ]
    }
   ],
   "source": [
    "# 식별자 = \n",
    "file = open(\"test.txt\", \"r\", encoding - 'utf-9')\n",
    "data = file.read()\n",
    "print(type(data))\n",
    "data"
   ]
  },
  {
   "cell_type": "code",
   "execution_count": 13,
   "id": "c6d13a37-1375-4b30-be4f-d19f1f6c01ca",
   "metadata": {},
   "outputs": [],
   "source": [
    "with open(\"basic.txt\",\"w\") as file:\n",
    "    file.write(\"hello python programming..!\")"
   ]
  },
  {
   "cell_type": "code",
   "execution_count": 14,
   "id": "0cd1b3c5-b7e4-4e16-9be1-491dfd47864e",
   "metadata": {},
   "outputs": [
    {
     "ename": "SyntaxError",
     "evalue": "invalid syntax (2999241959.py, line 1)",
     "output_type": "error",
     "traceback": [
      "\u001b[1;36m  Cell \u001b[1;32mIn[14], line 1\u001b[1;36m\u001b[0m\n\u001b[1;33m    With open(\"basic.txt\",\"r\") as file:\u001b[0m\n\u001b[1;37m         ^\u001b[0m\n\u001b[1;31mSyntaxError\u001b[0m\u001b[1;31m:\u001b[0m invalid syntax\n"
     ]
    }
   ],
   "source": [
    "With open(\"basic.txt\",\"r\") as file:\n",
    "    contents = file.read()\n",
    "print(contents)"
   ]
  },
  {
   "cell_type": "code",
   "execution_count": null,
   "id": "c7aa9141-b68e-4a9e-9e19-9a13d73bc5a8",
   "metadata": {},
   "outputs": [],
   "source": []
  },
  {
   "cell_type": "code",
   "execution_count": null,
   "id": "38ca39eb-9631-4883-8af5-c4a4596e5829",
   "metadata": {},
   "outputs": [],
   "source": []
  }
 ],
 "metadata": {
  "kernelspec": {
   "display_name": "Python 3 (ipykernel)",
   "language": "python",
   "name": "python3"
  },
  "language_info": {
   "codemirror_mode": {
    "name": "ipython",
    "version": 3
   },
   "file_extension": ".py",
   "mimetype": "text/x-python",
   "name": "python",
   "nbconvert_exporter": "python",
   "pygments_lexer": "ipython3",
   "version": "3.10.14"
  }
 },
 "nbformat": 4,
 "nbformat_minor": 5
}
