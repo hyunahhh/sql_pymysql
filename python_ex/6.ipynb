{
 "cells": [
  {
   "cell_type": "markdown",
   "id": "059a3514-0a20-41a5-900d-ce24dc2ff1b1",
   "metadata": {},
   "source": [
    "# 파일 처리\n",
    "## 파일 쓰기\n",
    "- 파일 오픈: 파일명, 모드(쓰기 모드 w, a), 식별\n",
    "- 쓰기 모드\n",
    "  - w: 파일에 overwrite\n",
    "  - a : 파일의 뒷부분에 추가\n",
    "- 마지막에 close()"
   ]
  },
  {
   "cell_type": "code",
   "execution_count": 6,
   "id": "0db665de-760d-4440-9a0b-07b1ad1dffd5",
   "metadata": {},
   "outputs": [],
   "source": [
    "# 파일 오플\n",
    "#식별자 = open(\"파일명\", \"모드\")\n",
    "file = open(\"test.txt\", \"w\", encoding='utf-8')\n",
    "\n",
    "file.write(\"안녕 파일 쓰기 처음이야.\")\n",
    "file.write(\"hello how are you.\")\n",
    "\n",
    "\n",
    "#파일 닫기\n",
    "file.close()"
   ]
  },
  {
   "cell_type": "code",
   "execution_count": 8,
   "id": "7fa400f7-5896-4f38-bd2e-922ad936be18",
   "metadata": {},
   "outputs": [],
   "source": [
    "# 파일 오플\n",
    "#식별자 = open(\"파일명\", \"모드\")\n",
    "file = open(\"test.txt\", \"a\", encoding='utf-8')\n",
    "\n",
    "file.write(\"안녕 파일 쓰기 처음이야.2\")\n",
    "file.write(\"hello how are you.\\n2\")\n",
    "\n",
    "\n",
    "#파일 닫기\n",
    "file.close()"
   ]
  },
  {
   "cell_type": "markdown",
   "id": "fc947964-ecf6-4d81-98f0-6b16c586a405",
   "metadata": {},
   "source": [
    "# 파일 읽기"
   ]
  },
  {
   "cell_type": "code",
   "execution_count": 10,
   "id": "6946b005-5ed4-4be1-8bd7-39e4b17d61cd",
   "metadata": {},
   "outputs": [
    {
     "ename": "NameError",
     "evalue": "name 'encoding' is not defined",
     "output_type": "error",
     "traceback": [
      "\u001b[1;31m---------------------------------------------------------------------------\u001b[0m",
      "\u001b[1;31mNameError\u001b[0m                                 Traceback (most recent call last)",
      "Cell \u001b[1;32mIn[10], line 2\u001b[0m\n\u001b[0;32m      1\u001b[0m \u001b[38;5;66;03m# 식별자 = \u001b[39;00m\n\u001b[1;32m----> 2\u001b[0m file \u001b[38;5;241m=\u001b[39m \u001b[38;5;28mopen\u001b[39m(\u001b[38;5;124m\"\u001b[39m\u001b[38;5;124mtest.txt\u001b[39m\u001b[38;5;124m\"\u001b[39m, \u001b[38;5;124m\"\u001b[39m\u001b[38;5;124mr\u001b[39m\u001b[38;5;124m\"\u001b[39m, \u001b[43mencoding\u001b[49m \u001b[38;5;241m-\u001b[39m \u001b[38;5;124m'\u001b[39m\u001b[38;5;124mutf-9\u001b[39m\u001b[38;5;124m'\u001b[39m)\n\u001b[0;32m      3\u001b[0m data \u001b[38;5;241m=\u001b[39m file\u001b[38;5;241m.\u001b[39mread()\n\u001b[0;32m      4\u001b[0m \u001b[38;5;28mprint\u001b[39m(\u001b[38;5;28mtype\u001b[39m(data))\n",
      "\u001b[1;31mNameError\u001b[0m: name 'encoding' is not defined"
     ]
    }
   ],
   "source": [
    "# 식별자 = \n",
    "file = open(\"test.txt\", \"r\", encoding - 'utf-9')\n",
    "data = file.read()\n",
    "print(type(data))\n",
    "data"
   ]
  },
  {
   "cell_type": "code",
   "execution_count": 13,
   "id": "c6d13a37-1375-4b30-be4f-d19f1f6c01ca",
   "metadata": {},
   "outputs": [],
   "source": [
    "with open(\"basic.txt\",\"w\") as file:\n",
    "    file.write(\"hello python programming..!\")"
   ]
  },
  {
   "cell_type": "code",
   "execution_count": 14,
   "id": "0cd1b3c5-b7e4-4e16-9be1-491dfd47864e",
   "metadata": {},
   "outputs": [
    {
     "ename": "SyntaxError",
     "evalue": "invalid syntax (2999241959.py, line 1)",
     "output_type": "error",
     "traceback": [
      "\u001b[1;36m  Cell \u001b[1;32mIn[14], line 1\u001b[1;36m\u001b[0m\n\u001b[1;33m    With open(\"basic.txt\",\"r\") as file:\u001b[0m\n\u001b[1;37m         ^\u001b[0m\n\u001b[1;31mSyntaxError\u001b[0m\u001b[1;31m:\u001b[0m invalid syntax\n"
     ]
    }
   ],
   "source": [
    "With open(\"basic.txt\",\"r\") as file:\n",
    "    contents = file.read()\n",
    "print(contents)"
   ]
  },
  {
   "cell_type": "code",
   "execution_count": null,
   "id": "c7aa9141-b68e-4a9e-9e19-9a13d73bc5a8",
   "metadata": {},
   "outputs": [],
   "source": []
  },
  {
   "cell_type": "code",
   "execution_count": 1,
   "id": "38ca39eb-9631-4883-8af5-c4a4596e5829",
   "metadata": {},
   "outputs": [
    {
     "ename": "SyntaxError",
     "evalue": "invalid syntax (2272251235.py, line 1)",
     "output_type": "error",
     "traceback": [
      "\u001b[1;36m  Cell \u001b[1;32mIn[1], line 1\u001b[1;36m\u001b[0m\n\u001b[1;33m    for i range(5):\u001b[0m\n\u001b[1;37m          ^\u001b[0m\n\u001b[1;31mSyntaxError\u001b[0m\u001b[1;31m:\u001b[0m invalid syntax\n"
     ]
    }
   ],
   "source": [
    "for i range(5):\n",
    "name = random.choices(hanguls)+random.choices(hanguls)"
   ]
  },
  {
   "cell_type": "code",
   "execution_count": null,
   "id": "27e42a3f-69e8-4794-9d5f-a1e0705dee87",
   "metadata": {},
   "outputs": [],
   "source": [
    "with open('info.csv', 'r',encoding ='utf-8') as f:\n",
    "    for line in f:\n",
    "        name, weight, height = line.strip().split(','(\n",
    "        print(type(weight))\n",
    "        if (not name) or (not weight) or (not height) or i(type(weight) == 'str'):\n",
    "            c"
   ]
  },
  {
   "cell_type": "code",
   "execution_count": null,
   "id": "b4b90a86-6d65-431d-a25e-66c6fb0dd425",
   "metadata": {},
   "outputs": [],
   "source": []
  },
  {
   "cell_type": "code",
   "execution_count": 5,
   "id": "8d9e836c-b30e-462c-92a5-04ae2b52aca5",
   "metadata": {},
   "outputs": [],
   "source": [
    "def print_reverse(string) :\n",
    "    print(string[::-1])"
   ]
  },
  {
   "cell_type": "code",
   "execution_count": 6,
   "id": "20a6094d-e046-42a1-9a11-e8e8d5717e88",
   "metadata": {},
   "outputs": [
    {
     "ename": "IndentationError",
     "evalue": "expected an indented block after function definition on line 1 (571030825.py, line 2)",
     "output_type": "error",
     "traceback": [
      "\u001b[1;36m  Cell \u001b[1;32mIn[6], line 2\u001b[1;36m\u001b[0m\n\u001b[1;33m    score_average = score_list.sum / score_list.len\u001b[0m\n\u001b[1;37m    ^\u001b[0m\n\u001b[1;31mIndentationError\u001b[0m\u001b[1;31m:\u001b[0m expected an indented block after function definition on line 1\n"
     ]
    }
   ],
   "source": [
    "def print_score(score_list):\n",
    "score_average = score_list.sum / score_list.len"
   ]
  },
  {
   "cell_type": "code",
   "execution_count": 10,
   "id": "4503bfdc-89fa-4e7f-b06b-932438622dca",
   "metadata": {},
   "outputs": [
    {
     "ename": "FileNotFoundError",
     "evalue": "[Errno 2] No such file or directory: 'info.csv'",
     "output_type": "error",
     "traceback": [
      "\u001b[1;31m---------------------------------------------------------------------------\u001b[0m",
      "\u001b[1;31mFileNotFoundError\u001b[0m                         Traceback (most recent call last)",
      "Cell \u001b[1;32mIn[10], line 1\u001b[0m\n\u001b[1;32m----> 1\u001b[0m \u001b[38;5;28;01mwith\u001b[39;00m \u001b[38;5;28;43mopen\u001b[39;49m\u001b[43m(\u001b[49m\u001b[38;5;124;43m'\u001b[39;49m\u001b[38;5;124;43minfo.csv\u001b[39;49m\u001b[38;5;124;43m'\u001b[39;49m\u001b[43m,\u001b[49m\u001b[43m \u001b[49m\u001b[38;5;124;43m'\u001b[39;49m\u001b[38;5;124;43mr\u001b[39;49m\u001b[38;5;124;43m'\u001b[39;49m\u001b[43m,\u001b[49m\u001b[43m \u001b[49m\u001b[43mencoding\u001b[49m\u001b[38;5;241;43m=\u001b[39;49m\u001b[38;5;124;43m'\u001b[39;49m\u001b[38;5;124;43mutf-8\u001b[39;49m\u001b[38;5;124;43m'\u001b[39;49m\u001b[43m)\u001b[49m \u001b[38;5;28;01mas\u001b[39;00m f:\n\u001b[0;32m      2\u001b[0m     \u001b[38;5;28mnext\u001b[39m(f)\n\u001b[0;32m      4\u001b[0m     \u001b[38;5;28;01mfor\u001b[39;00m line \u001b[38;5;129;01min\u001b[39;00m f:\n",
      "File \u001b[1;32m~\\anaconda3\\lib\\site-packages\\IPython\\core\\interactiveshell.py:324\u001b[0m, in \u001b[0;36m_modified_open\u001b[1;34m(file, *args, **kwargs)\u001b[0m\n\u001b[0;32m    317\u001b[0m \u001b[38;5;28;01mif\u001b[39;00m file \u001b[38;5;129;01min\u001b[39;00m {\u001b[38;5;241m0\u001b[39m, \u001b[38;5;241m1\u001b[39m, \u001b[38;5;241m2\u001b[39m}:\n\u001b[0;32m    318\u001b[0m     \u001b[38;5;28;01mraise\u001b[39;00m \u001b[38;5;167;01mValueError\u001b[39;00m(\n\u001b[0;32m    319\u001b[0m         \u001b[38;5;124mf\u001b[39m\u001b[38;5;124m\"\u001b[39m\u001b[38;5;124mIPython won\u001b[39m\u001b[38;5;124m'\u001b[39m\u001b[38;5;124mt let you open fd=\u001b[39m\u001b[38;5;132;01m{\u001b[39;00mfile\u001b[38;5;132;01m}\u001b[39;00m\u001b[38;5;124m by default \u001b[39m\u001b[38;5;124m\"\u001b[39m\n\u001b[0;32m    320\u001b[0m         \u001b[38;5;124m\"\u001b[39m\u001b[38;5;124mas it is likely to crash IPython. If you know what you are doing, \u001b[39m\u001b[38;5;124m\"\u001b[39m\n\u001b[0;32m    321\u001b[0m         \u001b[38;5;124m\"\u001b[39m\u001b[38;5;124myou can use builtins\u001b[39m\u001b[38;5;124m'\u001b[39m\u001b[38;5;124m open.\u001b[39m\u001b[38;5;124m\"\u001b[39m\n\u001b[0;32m    322\u001b[0m     )\n\u001b[1;32m--> 324\u001b[0m \u001b[38;5;28;01mreturn\u001b[39;00m io_open(file, \u001b[38;5;241m*\u001b[39margs, \u001b[38;5;241m*\u001b[39m\u001b[38;5;241m*\u001b[39mkwargs)\n",
      "\u001b[1;31mFileNotFoundError\u001b[0m: [Errno 2] No such file or directory: 'info.csv'"
     ]
    }
   ],
   "source": [
    "with open('info.csv', 'r', encoding='utf-8') as f:\n",
    "    next(f)\n",
    "    \n",
    "    for line in f:\n",
    "        name, weight, height = line.strip().split(',')\n",
    "        if not name or not weight or not height or not weight.isdigit() or not height.isdigit():\n",
    "            continue\n",
    "\n",
    "        bmi = int(weight) / ((int(height) / 100) ** 2)\n",
    "        result = \"\"\n",
    "        if bmi >= 25:\n",
    "            result = \"과체중\"\n",
    "        elif 18.04 <= bmi < 25:\n",
    "            result = \"정상체중\"\n",
    "        else:\n",
    "            result = \"저체중\"\n",
    "\n",
    "        name_display = f\"{name[0]} {name[1:]}\" if len(name) > 1 else name\n",
    "        print('\\n'.join([\n",
    "            f\"이름: {name_display}\",\n",
    "            f\"몸무게: {weight}\",\n",
    "            f\"키: {height}\",\n",
    "            f\"bmi: {round(bmi, 2)}\",\n",
    "            f\"결과: {result}\"\n",
    "        ]))\n",
    "        print()\n"
   ]
  },
  {
   "cell_type": "code",
   "execution_count": null,
   "id": "67d78d9f-5642-40b3-8e9e-d4c8a3efdd86",
   "metadata": {},
   "outputs": [],
   "source": []
  }
 ],
 "metadata": {
  "kernelspec": {
   "display_name": "Python 3 (ipykernel)",
   "language": "python",
   "name": "python3"
  },
  "language_info": {
   "codemirror_mode": {
    "name": "ipython",
    "version": 3
   },
   "file_extension": ".py",
   "mimetype": "text/x-python",
   "name": "python",
   "nbconvert_exporter": "python",
   "pygments_lexer": "ipython3",
   "version": "3.10.14"
  }
 },
 "nbformat": 4,
 "nbformat_minor": 5
}
