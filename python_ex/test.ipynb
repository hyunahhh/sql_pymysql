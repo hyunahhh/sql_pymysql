{
 "cells": [
  {
   "cell_type": "code",
   "execution_count": 2,
   "id": "038fe0dc-b9d0-4895-b9b1-c673af29e972",
   "metadata": {},
   "outputs": [
    {
     "name": "stdout",
     "output_type": "stream",
     "text": [
      "쥬피터랩\n"
     ]
    }
   ],
   "source": [
    "print(\"쥬피터랩\")"
   ]
  },
  {
   "cell_type": "code",
   "execution_count": null,
   "id": "62169655-9e80-445e-9fd6-01269361a693",
   "metadata": {},
   "outputs": [],
   "source": []
  }
 ],
 "metadata": {
  "kernelspec": {
   "display_name": "Python 3 (ipykernel)",
   "language": "python",
   "name": "python3"
  },
  "language_info": {
   "codemirror_mode": {
    "name": "ipython",
    "version": 3
   },
   "file_extension": ".py",
   "mimetype": "text/x-python",
   "name": "python",
   "nbconvert_exporter": "python",
   "pygments_lexer": "ipython3",
   "version": "3.10.9"
  }
 },
 "nbformat": 4,
 "nbformat_minor": 5
}
